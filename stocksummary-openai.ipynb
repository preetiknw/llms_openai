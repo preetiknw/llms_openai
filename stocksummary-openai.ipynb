{
 "cells": [
  {
   "cell_type": "markdown",
   "id": "bed39e14",
   "metadata": {},
   "source": [
    "### Stock Summary from Yahoo"
   ]
  },
  {
   "cell_type": "code",
   "execution_count": 3,
   "id": "8eda2893",
   "metadata": {},
   "outputs": [],
   "source": [
    "import os\n",
    "import requests\n",
    "from dotenv import load_dotenv\n",
    "from bs4 import BeautifulSoup\n",
    "from IPython.display import Markdown, display\n",
    "from openai import OpenAI"
   ]
  },
  {
   "cell_type": "code",
   "execution_count": 4,
   "id": "241f5f5b",
   "metadata": {},
   "outputs": [
    {
     "name": "stdout",
     "output_type": "stream",
     "text": [
      "API key found and looks good so far!\n"
     ]
    }
   ],
   "source": [
    "load_dotenv()\n",
    "api_key = os.getenv('OPENAI_API_KEY')\n",
    "if not api_key:\n",
    "    print(\"No API key was found\")\n",
    "elif not api_key.startswith(\"sk-proj-\"):\n",
    "    print(\"An API key was found, but it doesn't start sk-proj-\")\n",
    "elif api_key.strip() != api_key:\n",
    "    print(\"An API key was found, but it looks like it might have space or tab characters at the start or end - please remove them\")\n",
    "else:\n",
    "    print(\"API key found and looks good so far!\")"
   ]
  },
  {
   "cell_type": "code",
   "execution_count": 5,
   "id": "4c2fee69",
   "metadata": {},
   "outputs": [],
   "source": [
    "openai = OpenAI()"
   ]
  },
  {
   "cell_type": "code",
   "execution_count": 7,
   "id": "6caaa74a",
   "metadata": {},
   "outputs": [],
   "source": [
    "from urllib.parse import urlencode\n",
    "import datetime\n",
    "\n",
    "headers = {\n",
    "            \"User-Agent\": \"Mozilla/5.0 (Windows NT 10.0; Win64; x64) AppleWebKit/537.36 (KHTML, like Gecko) Chrome/91.0.4472.124 Safari/537.36\"\n",
    "        }"
   ]
  },
  {
   "cell_type": "code",
   "execution_count": null,
   "id": "801452b8",
   "metadata": {},
   "outputs": [],
   "source": [
    "class StockWebsite:\n",
    "    def __init__(self, stock_symbol):\n",
    "        self.stock_symbol = stock_symbol.upper()\n",
    "\n",
    "    def __build_url(self, params):\n",
    "        base_url = f\"https://finance.yahoo.com/quote/{self.stock_symbol}/history/\"\n",
    "        query_string = urlencode(params)\n",
    "        return f\"{base_url}?{query_string}\"\n",
    "    \n",
    "    def get_stock_data(self):\n",
    "        datetime_now = datetime.datetime.now()\n",
    "        datetime_year_ago = datetime_now - datetime.timedelta(days=365)\n",
    "        params={\"frequency\":\"1wk\" , \"period1\":datetime_year_ago.timestamp(), \"period2\":datetime_now.timestamp()}\n",
    "        url = self.__build_url(params)\n",
    "        response=requests.get(url,headers=headers)\n",
    "        soup=BeautifulSoup(response.content, \"html.parser\")\n",
    "\n",
    "        title = soup.title.string if soup.title else \"No title found\"\n",
    "        body = soup.body\n",
    "        html_table_data = \"\"\n",
    "        if body:\n",
    "            for irrelevant in body.find_all([\"script\", \"style\", \"img\", \"input\"]):\n",
    "                irrelevant.decompose()\n",
    "            html_table_data = soup.find(\"table\")\n",
    "\n",
    "        else:\n",
    "            print(\"Warning: No <body> tag found in the page. Check the URL or content.\")\n",
    "        \n",
    "        html_table_data = soup.find(\"table\")\n",
    "        return title, html_table_data\n",
    "\n",
    "    \n"
   ]
  },
  {
   "cell_type": "code",
   "execution_count": 10,
   "id": "4437d5e8",
   "metadata": {},
   "outputs": [],
   "source": [
    "def build_stock_analysis_prompt(stock_symbol,title, stock_table_data):\n",
    "    sys_prompt = r\"\"\"You are an assistant that analyzes the contents of HTML formated table that contains data on a specific stock.\n",
    "    The HTML table contains the date, open price, close price, low and highs aggregated for every week over one year timeframe.\n",
    "    Ignoring text, tags or html attributes that might be navigation related. \n",
    "    Respond in Markdown format\"\"\"\n",
    "    \n",
    "    user_prompt = f\"The data provided below in the HTML table format for {stock_symbol} from the Yahoo Finances.\\\n",
    "    Make the explaination easy enough for a newbie to understand. \\\n",
    "    Analyze and Summarize the trends on this stock:\\n{stock_table_data}\\n\\n\\\n",
    "    Also, calculate the total returns in percentage one could have expected over this period.\"\n",
    "\n",
    "    return [\n",
    "        {\"role\": \"system\", \"content\": sys_prompt},\n",
    "        {\"role\": \"user\", \"content\": user_prompt}\n",
    "    ]"
   ]
  },
  {
   "cell_type": "code",
   "execution_count": 23,
   "id": "d943219c",
   "metadata": {},
   "outputs": [],
   "source": [
    "def analyze_stock_trends(stock_symbol):\n",
    "    stock_data_page = StockWebsite(stock_symbol)\n",
    "    title, stock_table_data = stock_data_page.get_stock_data()\n",
    "    response = openai.chat.completions.create(\n",
    "         model = \"gpt-4o-mini\",\n",
    "        messages = build_stock_analysis_prompt(stock_symbol, title, stock_table_data)\n",
    "    )\n",
    "    return response.choices[0].message.content\n",
    "\n",
    "def display_analysis(stock_symbol):\n",
    "    display(Markdown(analyze_stock_trends(stock_symbol)))"
   ]
  },
  {
   "cell_type": "code",
   "execution_count": 25,
   "id": "fb86e1da",
   "metadata": {},
   "outputs": [
    {
     "name": "stdout",
     "output_type": "stream",
     "text": [
      "Warning: No <body> tag found in the page. Check the URL or content.\n"
     ]
    },
    {
     "data": {
      "text/markdown": [
       "It seems you didn't provide the actual HTML table data you mentioned for GOOG stock. However, I can guide you on how to analyze stock data, summarize trends, and calculate returns based on historical data.\n",
       "\n",
       "### Analyzing Stock Data\n",
       "\n",
       "1. **Understanding Key Terms**:\n",
       "    - **Open Price**: The price of the stock at the start of the trading week.\n",
       "    - **Close Price**: The price at the end of the trading week.\n",
       "    - **High**: The maximum price during the week.\n",
       "    - **Low**: The minimum price during the week.\n",
       "\n",
       "2. **Identifying Trends**:\n",
       "   - **Price Movement**: Look at the 'Open' and 'Close' prices over the weeks. If the close price is consistently higher than the open price, it indicates a bullish trend (the stock is gaining).\n",
       "   - **Volatility**: Check the differences between high and low prices. Large fluctuations might suggest high volatility, meaning the stock price is changing significantly week to week.\n",
       "\n",
       "3. **Overall Sentiment**:\n",
       "   - If there are more weeks with increasing close prices overall compared to those with decreasing close prices, it shows positive sentiment.\n",
       "\n",
       "### Calculating Total Returns\n",
       "\n",
       "To calculate the total returns over the period:\n",
       "\n",
       "1. **Formula**:\n",
       "   \\[\n",
       "   \\text{Total Return (\\%)} = \\left( \\frac{\\text{Final Close Price} - \\text{Initial Open Price}}{\\text{Initial Open Price}} \\right) \\times 100\n",
       "   \\]\n",
       "\n",
       "2. **Example Calculation**:\n",
       "   - Suppose the **Initial Open Price** (first week) is $1000 and the **Final Close Price** (last week) is $1200.\n",
       "   \\[\n",
       "   \\text{Total Return (\\%)} = \\left( \\frac{1200 - 1000}{1000} \\right) \\times 100 = 20\\%\n",
       "   \\]\n",
       "\n",
       "### Suggestions for Your Analysis\n",
       "- Look for patterns in the weekly close prices to determine whether the stock has been on an upward or downward trajectory.\n",
       "- Note any significant jumps or drops; these may correlate with market news or company announcements.\n",
       "\n",
       "### Summary\n",
       "To provide a thorough analysis and return calculation, please supply the actual stock data. If you obtain the data in a readable format, I can help interpret that specific information for you."
      ],
      "text/plain": [
       "<IPython.core.display.Markdown object>"
      ]
     },
     "metadata": {},
     "output_type": "display_data"
    }
   ],
   "source": [
    "display_analysis(\"GOOG\")"
   ]
  },
  {
   "cell_type": "code",
   "execution_count": 26,
   "id": "1d577b86",
   "metadata": {},
   "outputs": [
    {
     "name": "stdout",
     "output_type": "stream",
     "text": [
      "Warning: No <body> tag found in the page. Check the URL or content.\n"
     ]
    },
    {
     "data": {
      "text/markdown": [
       "It seems that there was an issue with the transmission of the data as you mentioned \"None\" instead of the actual HTML table for TSLA. Without the data provided, I cannot perform the analysis or summarize the trends.\n",
       "\n",
       "However, I can guide you on how to analyze stock trends and calculate total returns:\n",
       "\n",
       "### Understanding Stock Trends\n",
       "\n",
       "1. **Open and Close Prices**:\n",
       "   - The **open price** is the price of the stock at the start of the trading week.\n",
       "   - The **close price** is how much the stock was worth at the end of that week.\n",
       "   - By comparing these two prices over time, you can see if the stock is generally going up (bullish trend) or down (bearish trend).\n",
       "\n",
       "2. **Highs and Lows**:\n",
       "   - The **high** indicates the highest price of the stock for that week, while the **low** indicates the lowest price.\n",
       "   - An increasing high may suggest that the stock is gaining momentum.\n",
       "\n",
       "3. **Weekly Trends**:\n",
       "   - Look for patterns over the weeks. Are the closing prices generally moving higher? Is there a consistent pattern of rising or falling prices?\n",
       "\n",
       "### Calculating Total Returns\n",
       "\n",
       "To calculate the total returns in percentage:\n",
       "1. **Find the Initial and Final Prices**:\n",
       "   - Identify the closing price from the first week (initial price) and the closing price from the last week (final price).\n",
       "\n",
       "2. **Use the Total Returns Formula**:\n",
       "   \\[\n",
       "   \\text{Total Returns \\%} = \\left(\\frac{\\text{Final Price} - \\text{Initial Price}}{\\text{Initial Price}}\\right) \\times 100\n",
       "   \\]\n",
       "This formula helps quantify the gain or loss over the entire period as a percentage of the initial investment.\n",
       "\n",
       "### Example Calculation (Hypothetical)\n",
       "\n",
       "- **Initial Price** (1st week close): $500\n",
       "- **Final Price** (last week close): $600\n",
       "\n",
       "Using the formula:\n",
       "\\[\n",
       "\\text{Total Returns \\%} = \\left(\\frac{600 - 500}{500}\\right) \\times 100 = \\left(\\frac{100}{500}\\right) \\times 100 = 20\\%\n",
       "\\]\n",
       "\n",
       "### Summary\n",
       "To analyze the stock TSLA, you would focus on its opening and closing prices to identify trends, as well as highs and lows for market fluctuations. Once you have the necessary data, you can calculate the total returns over the specified period.\n",
       "\n",
       "If you manage to receive the data again, I can assist in providing a detailed analysis based on the actual figures."
      ],
      "text/plain": [
       "<IPython.core.display.Markdown object>"
      ]
     },
     "metadata": {},
     "output_type": "display_data"
    }
   ],
   "source": [
    "display_analysis(\"TSLA\")"
   ]
  }
 ],
 "metadata": {
  "kernelspec": {
   "display_name": "llms",
   "language": "python",
   "name": "python3"
  },
  "language_info": {
   "codemirror_mode": {
    "name": "ipython",
    "version": 3
   },
   "file_extension": ".py",
   "mimetype": "text/x-python",
   "name": "python",
   "nbconvert_exporter": "python",
   "pygments_lexer": "ipython3",
   "version": "3.12.7"
  }
 },
 "nbformat": 4,
 "nbformat_minor": 5
}
