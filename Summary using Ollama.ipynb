{
 "cells": [
  {
   "cell_type": "markdown",
   "id": "0bd34064-c2fa-4ab6-9c33-d89d979ecd93",
   "metadata": {},
   "source": [
    "### Benefits of using Ollama\n",
    "\n",
    "No charges\n",
    "Data stays local\n",
    "\n",
    "### Disadvantages \n",
    "Not Powerful as OpenAI\n",
    "\n"
   ]
  },
  {
   "cell_type": "code",
   "execution_count": 45,
   "id": "2c4233b3-5794-4fdb-8c3a-fc67c72a5d9e",
   "metadata": {},
   "outputs": [],
   "source": [
    "# imports\n",
    "\n",
    "import requests\n",
    "from bs4 import BeautifulSoup\n",
    "from IPython.display import Markdown, display"
   ]
  },
  {
   "cell_type": "code",
   "execution_count": 36,
   "id": "566d3221-aaeb-431f-986d-a1fdcba4e350",
   "metadata": {},
   "outputs": [],
   "source": [
    "# Model Constant\n",
    "MODEL = \"llama3.2\""
   ]
  },
  {
   "cell_type": "code",
   "execution_count": 46,
   "id": "96a0ea98-a580-4d32-9ac2-61cd0da47fa6",
   "metadata": {},
   "outputs": [],
   "source": [
    "import ollama\n",
    "\n",
    "# Try pulling the model\n",
    "try:\n",
    "    ollama.pull(\"llama3.2\")\n",
    "except Exception as e:\n",
    "    print(f\"Error pulling model: {e}\")"
   ]
  },
  {
   "cell_type": "code",
   "execution_count": 47,
   "id": "e3e57a4d-1f45-4f81-af91-d94221c726c3",
   "metadata": {},
   "outputs": [],
   "source": [
    "class Website:\n",
    "    def __init__(self,url):\n",
    "        self.url = url\n",
    "        self.title = None\n",
    "        self.text = None\n",
    "        \n",
    "        #set custom headers, especially user-agent, to avoid issues with some websites blocking the request.\n",
    "        \n",
    "        headers = {\n",
    "            \"User-Agent\": \"Mozilla/5.0 (Windows NT 10.0; Win64; x64) AppleWebKit/537.36 (KHTML, like Gecko) Chrome/91.0.4472.124 Safari/537.36\"\n",
    "        }\n",
    "        try:\n",
    "            # Make an HTTP request to fetch page content\n",
    "            response = requests.get(url,headers)\n",
    "            response.raise_for_status() # raise an exception for HTTP errors\n",
    "            \n",
    "            # Parst the website content using BeautifulSoup\n",
    "            soup = BeautifulSoup(response.content, 'html.parser')\n",
    "            \n",
    "            # Extract the title\n",
    "            self.title = soup.title.string if soup.title else 'No Title Found'\n",
    "\n",
    "            # Remove irrelevant tags\n",
    "            for irrelevant in soup.body([\"script\", \"style\", \"img\", \"input\"]):\n",
    "                irrelevant.decompose()\n",
    "            \n",
    "            # Extract text, stripping unnecessary whitespace and adding newlines between elements\n",
    "            self.text = soup.body.get_text(separator=\"\\n\", strip=True)\n",
    "\n",
    "        except requests.exceptions.RequestException as ex:\n",
    "            print(f\"Error fetching {url}: {ex}\")\n",
    "        except Exception as ex:\n",
    "            print(f\"Error processing the website content: {ex}\")\n",
    "\n",
    "    # Returns the title of the webpage\n",
    "    def get_title(self):\n",
    "        return self.title\n",
    "    \n",
    "    # Returns the cleaned text content of the webpage\n",
    "    def get_text(self):\n",
    "        return self.text\n",
    "    \n",
    "    def __str__(self):\n",
    "        return f\"{self.title} ({self.url})\"\n",
    "        "
   ]
  },
  {
   "cell_type": "code",
   "execution_count": 38,
   "id": "e3cb87b9-41d5-4bb8-a157-0c403ccd30a1",
   "metadata": {},
   "outputs": [
    {
     "name": "stdout",
     "output_type": "stream",
     "text": [
      "Breaking News, Latest News and Videos | CNN\n",
      "CNN values your feedback\n",
      "1. How relevant is this ad to you?\n",
      "2. Did you encounter any technical issues?\n",
      "Video player was slow to load content\n",
      "Video content never loaded\n",
      "Ad froze or did not finish loadi\n"
     ]
    }
   ],
   "source": [
    "# Let's try one out\n",
    "\n",
    "mywebsite = Website(\"https://cnn.com\")\n",
    "print(mywebsite.title)\n",
    "print(mywebsite.text[:200])"
   ]
  },
  {
   "cell_type": "code",
   "execution_count": 48,
   "id": "71ff0f61-2eca-4670-8ba8-eeb7b509428b",
   "metadata": {},
   "outputs": [],
   "source": [
    "system_prompt = \"You are an assistant that analyzes the contents of a website \\\n",
    "and provides a short summary, ignoring text that might be navigation related. \\\n",
    "Respond in markdown.\""
   ]
  },
  {
   "cell_type": "code",
   "execution_count": 49,
   "id": "25aef3ce-9c47-4fea-8e2c-17a16240d714",
   "metadata": {},
   "outputs": [],
   "source": [
    "def user_prompt_for(mywebsite):\n",
    "    user_prompt = f\"You are looking at a website titled {mywebsite.title}\"\n",
    "    user_prompt += \"The contents of this website is as follows; \\\n",
    "please provide a short summary of this website in markdown. \\\n",
    "If it includes news or announcements, then summarize these too.\\n\\n\"\n",
    "    user_prompt += f\"URL: {mywebsite.url}\\n\"\n",
    "    return user_prompt"
   ]
  },
  {
   "cell_type": "code",
   "execution_count": 50,
   "id": "8d990bdf-94ee-4be4-a079-01e668f3ea44",
   "metadata": {},
   "outputs": [],
   "source": [
    "\n",
    "def messages_for(mywebsite):\n",
    "    return [\n",
    "        {\"role\": \"system\", \"content\": system_prompt},\n",
    "        {\"role\": \"user\", \"content\": user_prompt_for(mywebsite)}\n",
    "    ]"
   ]
  },
  {
   "cell_type": "code",
   "execution_count": 51,
   "id": "4e644581-02c8-45d7-87dc-2f8e941e1c8c",
   "metadata": {},
   "outputs": [],
   "source": [
    "#  call the Ollama function instead of OpenAI\n",
    "\n",
    "def summarize(url):\n",
    "    website = Website(url)\n",
    "    messages = messages_for(website)\n",
    "    response = ollama.chat(model=MODEL, messages=messages)\n",
    "    return response['message']['content']"
   ]
  },
  {
   "cell_type": "code",
   "execution_count": 52,
   "id": "182abe0d-f376-48eb-86fd-d00f1a988d61",
   "metadata": {},
   "outputs": [],
   "source": [
    "# A function to display this nicely in the Jupyter output, using markdown\n",
    "\n",
    "def display_summary(url):\n",
    "    summary = summarize(url)\n",
    "    display(Markdown(summary))"
   ]
  },
  {
   "cell_type": "code",
   "execution_count": 53,
   "id": "72bcb28e-ffef-4d47-98f6-16e4f59182bb",
   "metadata": {},
   "outputs": [
    {
     "data": {
      "text/markdown": [
       "### Website Summary: CNN\n",
       "\n",
       "#### Overview\n",
       "-----------------\n",
       "\n",
       "*   **Title:** Breaking News, Latest News and Videos | CNN\n",
       "*   **Type:** News Network\n",
       "*   **Category:** Online Media\n",
       "\n",
       "#### Featured Content\n",
       "--------------------\n",
       "\n",
       "*   **Latest Headlines:**\n",
       "    *   COVID-19 pandemic updates\n",
       "    *   Ongoing global conflicts\n",
       "    *   Breaking news on various topics\n",
       "*   **Top Stories:**\n",
       "    *   US Politics and Government\n",
       "    *   Business News\n",
       "    *   Sports News\n",
       "\n",
       "#### Notable Features\n",
       "---------------------\n",
       "\n",
       "*   **News Videos:** CNN's original video content, covering various news topics.\n",
       "*   **Interactive Content:** Engaging features, such as polls and quizzes, to enhance user experience.\n",
       "\n",
       "Note: The provided summary is based on the main content of the website and excludes navigation-related sections."
      ],
      "text/plain": [
       "<IPython.core.display.Markdown object>"
      ]
     },
     "metadata": {},
     "output_type": "display_data"
    }
   ],
   "source": [
    "display_summary(\"https://cnn.com\")"
   ]
  },
  {
   "cell_type": "code",
   "execution_count": 54,
   "id": "0eec4d70-f6d3-42aa-84b0-97c6ff8c2c0c",
   "metadata": {},
   "outputs": [
    {
     "data": {
      "text/markdown": [
       "**Summary of Yahoo Website**\n",
       "=====================================\n",
       "\n",
       "### Overview\n",
       "\n",
       "Yahoo is a comprehensive online platform providing access to various services including email, weather forecasting, search engine, news, finance, sports, and video content.\n",
       "\n",
       "### Key Features\n",
       "\n",
       "* **Email**: Personal email accounts with storage space and spam filtering\n",
       "* **Weather**: Current weather conditions, forecasts, and radar imagery for worldwide locations\n",
       "* **Search**: A search engine allowing users to find information on the web\n",
       "* **News**: Breaking news headlines from various sources\n",
       "* **Finance**: Real-time stock market data, financial news, and investment tools\n",
       "* **Sports**: Live scores, news, and updates from different sports leagues and teams\n",
       "* **Videos**: Video content from multiple sources, including news and entertainment\n",
       "\n",
       "### News and Announcements\n",
       "\n",
       "Unfortunately, the provided URL does not contain any recent news or announcements. However, Yahoo's news section (https://news.yahoo.com) provides up-to-date information on various topics.\n",
       "\n",
       "### Notes\n",
       "\n",
       "The website seems to have undergone some redesigns in recent years, with a more modern and minimalistic layout."
      ],
      "text/plain": [
       "<IPython.core.display.Markdown object>"
      ]
     },
     "metadata": {},
     "output_type": "display_data"
    }
   ],
   "source": [
    "display_summary(\"https://yahoo.com\")"
   ]
  },
  {
   "cell_type": "code",
   "execution_count": 55,
   "id": "c270b6a8-8465-4ff8-a9aa-1a22ab2ca451",
   "metadata": {},
   "outputs": [
    {
     "data": {
      "text/markdown": [
       "**Summary of CNBC Website**\n",
       "====================================\n",
       "\n",
       "* **Tagline:** \"Worldwide leader in business news and information\"\n",
       "* **Content:**\n",
       "\t+ **Main Sections:**\n",
       "\t\t- Stock Markets\n",
       "\t\t- Business News\n",
       "\t\t- Financials\n",
       "\t\t- Earnings\n",
       "\t+ **News and Announcements:**\n",
       "\t\t- Breaking news on market trends, economic data, company earnings, and business developments.\n",
       "\t\t- In-depth coverage of the stock market, including stocks, ETFs, mutual funds, and commodities.\n",
       "\t\t- Analysis and commentary from top business journalists and experts.\n",
       "\t+ **Features and Tools:**\n",
       "\t\t- Real-time market data and charts\n",
       "\t\t- Stock screeners and portfolio management tools\n",
       "\t\t- Personal finance advice and planning resources\n",
       "\n",
       "**Notable News and Announcements:**\n",
       "\n",
       "* The US stock market is experiencing a correction due to rising interest rates and inflation concerns.\n",
       "* A major tech company announced strong quarterly earnings, beating analyst expectations.\n",
       "* The global economy is expected to slow down in 2024 due to geopolitical tensions and trade disputes.\n",
       "\n",
       "Please note that the news section on CNBC is constantly updating, so this summary might not be comprehensive or up-to-date."
      ],
      "text/plain": [
       "<IPython.core.display.Markdown object>"
      ]
     },
     "metadata": {},
     "output_type": "display_data"
    }
   ],
   "source": [
    "display_summary(\"https://cnbc.com\")"
   ]
  },
  {
   "cell_type": "code",
   "execution_count": null,
   "id": "416c3f0d-4b37-4f7e-a6c0-89191e5f7f96",
   "metadata": {},
   "outputs": [],
   "source": []
  }
 ],
 "metadata": {
  "kernelspec": {
   "display_name": "Python 3 (ipykernel)",
   "language": "python",
   "name": "python3"
  },
  "language_info": {
   "codemirror_mode": {
    "name": "ipython",
    "version": 3
   },
   "file_extension": ".py",
   "mimetype": "text/x-python",
   "name": "python",
   "nbconvert_exporter": "python",
   "pygments_lexer": "ipython3",
   "version": "3.11.11"
  }
 },
 "nbformat": 4,
 "nbformat_minor": 5
}
